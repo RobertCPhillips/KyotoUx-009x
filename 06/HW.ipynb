{
 "cells": [
  {
   "cell_type": "code",
   "execution_count": 1,
   "metadata": {
    "collapsed": true
   },
   "outputs": [],
   "source": [
    "% matplotlib inline\n",
    "\n",
    "import numpy as np  # import numpy library as np\n",
    "import math         # use mathematical functions defined by the C standard\n",
    "import matplotlib.pyplot as plt # import pyplot library as plt \n",
    "import pandas as pd # import pandas library as pd\n",
    "\n",
    "from numpy import fft\n",
    "from datetime import datetime\n",
    "\n",
    "plt.style.use('ggplot') # use \"ggplot\" style for graphs\n",
    "\n",
    "pltparams = {'legend.fontsize':16,'axes.labelsize':20,'axes.titlesize':20,\n",
    "             'xtick.labelsize':12,'ytick.labelsize':12,'figure.figsize':(7.5,7.5),}\n",
    "plt.rcParams.update(pltparams)"
   ]
  },
  {
   "cell_type": "code",
   "execution_count": 14,
   "metadata": {},
   "outputs": [
    {
     "name": "stdout",
     "output_type": "stream",
     "text": [
      "[ True  True  True  True]\n",
      "[False False False False]\n"
     ]
    }
   ],
   "source": [
    "r = .6\n",
    "N = 4\n",
    "ps = np.array([True, True, True, True])\n",
    "pswitch  = np.array([r, 1.0-r])\n",
    "switch = np.random.choice([True,False], p=pswitch,size=N)\n",
    "ps[switch] = False\n",
    "\n",
    "print(switch)\n",
    "print(ps)"
   ]
  },
  {
   "cell_type": "code",
   "execution_count": 15,
   "metadata": {
    "collapsed": true
   },
   "outputs": [],
   "source": [
    "# Original two dealer code\n",
    "\n",
    "#params={'L':0.01,'c':0.01,'dp':0.01,'dt':0.01**2,'d':1.00,'M':10} # define model parameters\n",
    "#p0 = np.ones(2)*100.25\n",
    "\n",
    "#params={'N':100,'r':0.6,'L':0.01,'c':0.01,'dp':0.01,'dt':0.01**2, 'd':1.00, 'M':10} # define model parameters\n",
    "#p0 = np.ones(params['N'])*100.25\n",
    "\n",
    "params={'e0':1e-4,'sigma':0.1,'N':100,'r':0.6,'L':0.01,'c':0.01,'dp':0.01,'dt':0.01**2, 'd':1.00, 'M':10} # define model parameters\n",
    "p0  = np.ones(params['N'])*100.25\n",
    "\n",
    "\n",
    "def model2(params,p0,numt):\n",
    "    ## switching rates\n",
    "    pswitch  = np.array([params['r'], 1.0-params['r']]) \n",
    "    \n",
    "    # compute running average Eq.(L6)\n",
    "    def avgprice(dpn): \n",
    "        M = len(dpn)     \n",
    "        weights  = np.array(range(1,M+1))*2.0/(M*(M+1))\n",
    "        return weights.dot(dpn)\n",
    "\n",
    "    ## return transaction candidate: pair (i,j) with largest price difference\n",
    "    def transactionPair(pt):  \n",
    "        return [np.min(pt), np.max(pt)]\n",
    "    \n",
    "    # update prices for transaction between the two dealers and return new market price\n",
    "    #def transactionUpdate(pt):\n",
    "    #    newprice = np.average(pt)  #set mid-prices to new market price Eq.(L2)\n",
    "    #    pt[:]    = newprice\n",
    "    #   return newprice\n",
    "    \n",
    "    # update prices for transaction between the two dealers (i,j) and return new market price\n",
    "    def transactionUpdate(i,j,pt):\n",
    "        newprice = np.average([pt[i], pt[j]])\n",
    "        switch   = np.random.choice([True,False], p=pswitch,size=params['N']) # determine which dealers update price\n",
    "        switch[i]=switch[j]=True\n",
    "        pt[switch] = newprice\n",
    "        return newprice    \n",
    "    \n",
    "    # ... variable initializations ...\n",
    "    mktprice = np.zeros(numt)   # initialize market price P(n)\n",
    "    dmktprice= np.zeros(numt)   # initialize change in price dP(n) needed for running average\n",
    "    ticktime = np.zeros(numt,dtype=np.int) #initialize array for tick times\n",
    "    price    = p0               #initialize dealer's mid-price (p1,p2)\n",
    "    time,tick= 0,0 # real time(t) and time time (n)\n",
    "    deltapm  = 0.0 # trend term d <dP>_m dt for current random walk\n",
    "    cdp      = params['c']*params['dp'] # define random step size\n",
    "    ddt      = params['d']*params['dt'] # define amplitude of trend term\n",
    "    \n",
    "    deltapm  = 0.0                                           # trend term <dP>_m dt for current random walk\n",
    "    dbar     = params['d']                                   # define average trend following effect \\bar{d}\n",
    "    di       = params['sigma']*np.random.randn(params['N'])  # trend following parameter for dealer i\n",
    "    \n",
    "    while tick < numt: # loop over ticks\n",
    "        [i,j]    = transactionPair(price)   # transaction candidate\n",
    "        #while np.abs(price[0]-price[1]) < params['L']: # transaction criterion Eq.(L1)\n",
    "        while np.abs(price[i]-price[j]) < params['L']: # transaction criterion Eq.(L1)\n",
    "            #price = price + deltapm + np.random.choice([-cdp,cdp], size=2) # random walk step Eq.(L4)\n",
    "            price = price + deltapm + np.random.choice([-cdp,cdp], size=params['N']) # random walk step Eq.(L4)\n",
    "            [i,j] = transactionPair(price) # update transaction candidate\n",
    "            time += 1 #update real time \n",
    "\n",
    "        #mktprice[tick] = transactionUpdate(price)                      # save market price\n",
    "        mktprice[tick] = transactionUpdate(i,j,price)\n",
    "        \n",
    "        # ... finalize loop ...\n",
    "        dmktprice[tick]= mktprice[tick] - mktprice[np.max([0,tick-1])] # save dP(n) = P(n) - P(n-1)\n",
    "        ticktime[tick] = time # save transaction time\n",
    "        tick += 1             #update ticks\n",
    "        tick0 = np.max([0, tick - params['M']])       #compute tick start for running average\n",
    "        deltapm = avgprice(dmktprice[tick0:tick])*ddt #compute updated trend term for current tick time\n",
    "    return ticktime,mktprice"
   ]
  },
  {
   "cell_type": "code",
   "execution_count": null,
   "metadata": {
    "collapsed": true
   },
   "outputs": [],
   "source": []
  }
 ],
 "metadata": {
  "anaconda-cloud": {},
  "kernelspec": {
   "display_name": "Python [default]",
   "language": "python",
   "name": "python3"
  },
  "language_info": {
   "codemirror_mode": {
    "name": "ipython",
    "version": 3
   },
   "file_extension": ".py",
   "mimetype": "text/x-python",
   "name": "python",
   "nbconvert_exporter": "python",
   "pygments_lexer": "ipython3",
   "version": "3.5.3"
  }
 },
 "nbformat": 4,
 "nbformat_minor": 2
}
